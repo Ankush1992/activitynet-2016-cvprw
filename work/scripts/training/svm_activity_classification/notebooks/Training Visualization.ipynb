{
 "cells": [
  {
   "cell_type": "markdown",
   "metadata": {},
   "source": [
    "# Train SVM with video features"
   ]
  },
  {
   "cell_type": "code",
   "execution_count": 1,
   "metadata": {
    "collapsed": true
   },
   "outputs": [],
   "source": [
    "import re\n",
    "import numpy as np\n",
    "import matplotlib.pyplot as plt\n",
    "%matplotlib inline\n",
    "\n",
    "def plot_on_training(txt, max_epochs=100, max_loss=5, batch_size=380):\n",
    "    loss = re.findall('- loss: \\d+\\.\\d+', txt)\n",
    "    accuracy = re.findall('- acc: \\d+\\.\\d+', txt)\n",
    "    val_loss = re.findall('- val_loss: \\d+\\.\\d+', txt)\n",
    "    val_accuracy = re.findall('- val_acc: \\d+\\.\\d+', txt)\n",
    "\n",
    "    loss = np.array([float(x[8:]) for x in loss], dtype=np.float32)\n",
    "    accuracy = np.array([float(x[7:]) for x in accuracy], dtype=np.float32)\n",
    "    val_loss = np.array([float(x[12:]) for x in val_loss], dtype=np.float32)\n",
    "    val_accuracy = np.array([float(x[11:]) for x in val_accuracy], dtype=np.float32)\n",
    "    \n",
    "    t = np.arange(1, len(val_loss)+1).astype(np.int64)\n",
    "    fig, ax1 = plt.subplots(figsize=(18, 10), dpi=100)\n",
    "    ax1.plot(t, loss[(batch_size-1)::batch_size], 'b-')\n",
    "    ax1.plot(t, val_loss, 'b-.')\n",
    "    ax1.set_xlabel('Epochs')\n",
    "    ax1.set_ylabel('Loss', color='b')\n",
    "    ax1.set_xlim([0,max_epochs])\n",
    "    ax1.set_ylim([0,max_loss])\n",
    "    for tl in ax1.get_yticklabels():\n",
    "        tl.set_color('b')\n",
    "\n",
    "    ax2 = ax1.twinx()\n",
    "    ax2.plot(t, accuracy[(batch_size-1)::batch_size], 'r-')\n",
    "    ax2.plot(t, val_accuracy, 'r-.')\n",
    "    ax2.set_ylabel('Accuracy', color='r')\n",
    "    ax2.set_xlim([0,max_epochs])\n",
    "    ax2.set_ylim([0, 1])\n",
    "    for tl in ax2.get_yticklabels():\n",
    "        tl.set_color('r')\n",
    "    plt.show()"
   ]
  },
  {
   "cell_type": "markdown",
   "metadata": {},
   "source": [
    "# Experiment 1"
   ]
  },
  {
   "cell_type": "markdown",
   "metadata": {},
   "source": [
    "1 SVM, `lr=0.1`."
   ]
  },
  {
   "cell_type": "markdown",
   "metadata": {},
   "source": [
    "```\n",
    "nb_experiment: 1\n",
    "batch_size: 256\n",
    "timesteps: 20\n",
    "epochs: 120\n",
    "learning rate: 0.1\n",
    "background_weight: 0.3\n",
    "\n",
    "____________________________________________________________________________________________________\n",
    "Layer (type)                     Output Shape          Param #     Connected to                     \n",
    "====================================================================================================\n",
    "mfcc_features (InputLayer)       (256, 20, 80)         0                                            \n",
    "____________________________________________________________________________________________________\n",
    "spec_features (InputLayer)       (256, 20, 8)          0                                            \n",
    "____________________________________________________________________________________________________\n",
    "video_features (InputLayer)      (256, 20, 4096)       0                                            \n",
    "____________________________________________________________________________________________________\n",
    "mfcc_normalization (BatchNormaliz(256, 20, 80)         160         mfcc_features[0][0]              \n",
    "____________________________________________________________________________________________________\n",
    "spec_normalization (BatchNormaliz(256, 20, 8)          16          spec_features[0][0]              \n",
    "____________________________________________________________________________________________________\n",
    "video_normalization (BatchNormali(256, 20, 4096)       8192        video_features[0][0]             \n",
    "____________________________________________________________________________________________________\n",
    "merge_1 (Merge)                  (256, 20, 4184)       0           video_normalization[0][0]        \n",
    "                                                                   mfcc_normalization[0][0]         \n",
    "                                                                   spec_normalization[0][0]         \n",
    "____________________________________________________________________________________________________\n",
    "hidden (TimeDistributed)         (256, 20, 1024)       4285440     merge_1[0][0]                    \n",
    "____________________________________________________________________________________________________\n",
    "output (TimeDistributed)         (256, 20, 201)        206025      hidden[0][0]                     \n",
    "====================================================================================================\n",
    "Total params: 4499833\n",
    "____________________________________________________________________________________________________\n",
    "```"
   ]
  },
  {
   "cell_type": "code",
   "execution_count": 5,
   "metadata": {
    "collapsed": false
   },
   "outputs": [
    {
     "data": {
      "image/png": "[encoded data removed]",
      "text/plain": [
       "<matplotlib.figure.Figure at 0x525c910>"
      ]
     },
     "metadata": {},
     "output_type": "display_data"
    }
   ],
   "source": [
    "with open('../logs/training_e01.log', 'r') as f:\n",
    "    txt = f.read()\n",
    "    \n",
    "plot_on_training(txt, max_epochs=120)"
   ]
  },
  {
   "cell_type": "code",
   "execution_count": null,
   "metadata": {
    "collapsed": true
   },
   "outputs": [],
   "source": []
  }
 ],
 "metadata": {
  "kernelspec": {
   "display_name": "Python 2",
   "language": "python",
   "name": "python2"
  },
  "language_info": {
   "codemirror_mode": {
    "name": "ipython",
    "version": 2
   },
   "file_extension": ".py",
   "mimetype": "text/x-python",
   "name": "python",
   "nbconvert_exporter": "python",
   "pygments_lexer": "ipython2",
   "version": "2.7.3"
  }
 },
 "nbformat": 4,
 "nbformat_minor": 0
}
