{
 "cells": [
  {
   "cell_type": "code",
   "execution_count": 28,
   "metadata": {
    "collapsed": true
   },
   "outputs": [],
   "source": [
    "import json\n",
    "import sys\n",
    "\n",
    "import h5py\n",
    "import numpy as np\n",
    "from progressbar import ProgressBar\n",
    "\n",
    "from work.dataset.activitynet import ActivityNetDataset"
   ]
  },
  {
   "cell_type": "code",
   "execution_count": null,
   "metadata": {
    "collapsed": true
   },
   "outputs": [],
   "source": [
    "def get_temporal_proposals(prob):\n",
    "    windows_sizes = np.array([4, 8, 16, 32])\n",
    "    nb_instances = prob.shape[0]\n",
    "    max_window_size = nb_instances // windows_sizes\n",
    "    max_window_index = np.arange(4)[max_window_size > 0][-1]\n",
    "\n",
    "    proposals = []\n",
    "    for window_size in window_sizes[:max_window_index]:\n",
    "        for i in range(nb_instances//window_size):\n",
    "            proposal\n",
    "            \n"
   ]
  },
  {
   "cell_type": "code",
   "execution_count": 39,
   "metadata": {
    "collapsed": true
   },
   "outputs": [],
   "source": [
    "from work.processing.output import get_top_k_predictions_score\n",
    "\n",
    "def get_temporal_predictions(prob, fps=1, clip_length=16.):\n",
    "    threshold = 0.50\n",
    "    classes = np.argmax(prob, axis=1)\n",
    "    top_activity, scores = get_top_k_predictions_score(classes, k=1)\n",
    "\n",
    "    results = []\n",
    "    if not top_activity:\n",
    "        return results\n",
    "\n",
    "    activity_prob = prob[:,top_activity[0]]\n",
    "\n",
    "    activity_tag = np.zeros(activity_prob.shape)\n",
    "    activity_tag[activity_prob>=threshold] = 1\n",
    "\n",
    "    assert activity_tag.ndim == 1\n",
    "    padded = np.pad(activity_tag, pad_width=1, mode='constant')\n",
    "    dif = padded[1:] - padded [:-1]\n",
    "\n",
    "    indexes = np.arange(dif.size)\n",
    "    startings = indexes[dif == 1]\n",
    "    endings = indexes[dif == -1]\n",
    "\n",
    "    assert startings.size == endings.size\n",
    "\n",
    "    for s, e in zip(startings, endings):\n",
    "        score = np.mean(activity_prob[s:e])\n",
    "        results.append({\n",
    "            'score': score,\n",
    "            'segment': [\n",
    "                s * clip_length / fps,\n",
    "                e * clip_length / fps\n",
    "            ],\n",
    "            'label': top_activity[0]\n",
    "        })\n",
    "\n",
    "    return results\n"
   ]
  },
  {
   "cell_type": "code",
   "execution_count": 40,
   "metadata": {
    "collapsed": false
   },
   "outputs": [
    {
     "name": "stdout",
     "output_type": "stream",
     "text": [
      "Generating results for validation subset...\n"
     ]
    },
    {
     "name": "stderr",
     "output_type": "stream",
     "text": [
      "100% (4856 of 4856) |######################| Elapsed Time: 0:00:52 Time: 0:00:52\n"
     ]
    }
   ],
   "source": [
    "predictions_path = '../predictions/predictions_06_e100.hdf5'\n",
    "\n",
    "dataset = ActivityNetDataset(\n",
    "    videos_path='../../../../../dataset/videos.json',\n",
    "    labels_path='../../../../../dataset/labels.txt'\n",
    ")\n",
    "\n",
    "f_predictions = h5py.File(predictions_path, 'r')\n",
    "\n",
    "subset = 'validation'\n",
    "print('Generating results for {} subset...'.format(subset))\n",
    "subset_predictions = f_predictions[subset]\n",
    "\n",
    "progbar = ProgressBar(max_value=len(subset_predictions.keys()))\n",
    "with open('../../../evaluation/data/result_template_{}.json'.format(subset), 'r') as f:\n",
    "    results = json.load(f)\n",
    "\n",
    "count = 0\n",
    "progbar.update(0)\n",
    "for video in dataset.get_subset_videos(subset):\n",
    "    if video.video_id not in subset_predictions.keys():\n",
    "        continue\n",
    "    prediction = subset_predictions[video.video_id]\n",
    "    #class_predictions = np.argmax(prediction, axis=1)\n",
    "    temporal_predictions = get_temporal_predictions(prediction, fps=video.fps)\n",
    "    for p in temporal_predictions:\n",
    "        label = dataset.labels[p['label']][1]\n",
    "        p['label'] = label\n",
    "\n",
    "    results['results'][video.video_id] = temporal_predictions\n",
    "    count += 1\n",
    "    progbar.update(count)\n",
    "\n",
    "progbar.finish()\n",
    "\n",
    "f_predictions.close()"
   ]
  },
  {
   "cell_type": "code",
   "execution_count": 41,
   "metadata": {
    "collapsed": false
   },
   "outputs": [
    {
     "data": {
      "text/plain": [
       "13779"
      ]
     },
     "execution_count": 41,
     "metadata": {},
     "output_type": "execute_result"
    }
   ],
   "source": [
    "sum(len(results['results'][k]) for k in results['results'].keys())"
   ]
  },
  {
   "cell_type": "code",
   "execution_count": null,
   "metadata": {
    "collapsed": true
   },
   "outputs": [],
   "source": []
  },
  {
   "cell_type": "markdown",
   "metadata": {},
   "source": [
    "# Temporal Proposals"
   ]
  },
  {
   "cell_type": "code",
   "execution_count": 42,
   "metadata": {
    "collapsed": true
   },
   "outputs": [],
   "source": [
    "import json\n",
    "\n",
    "import h5py\n",
    "import matplotlib.pyplot as plt\n",
    "import numpy as np\n",
    "import pandas as pd\n",
    "\n",
    "%matplotlib inline"
   ]
  },
  {
   "cell_type": "code",
   "execution_count": 43,
   "metadata": {
    "collapsed": true
   },
   "outputs": [],
   "source": [
    "# Modify this paths\n",
    "ANNOTATION_FILE = '../../../evaluation/data/activity_net.v1-3.min.json'\n",
    "SUBSET = 'validation'"
   ]
  },
  {
   "cell_type": "code",
   "execution_count": 44,
   "metadata": {
    "collapsed": false
   },
   "outputs": [],
   "source": [
    "# Read json file containing the annotations\n",
    "with open(ANNOTATION_FILE, 'r') as fobj:\n",
    "    data = json.load(fobj)['database']\n",
    "\n",
    "# Parsing and looking for agnostic segments of an intended subset.\n",
    "video_id_fmt = '{}'\n",
    "gt_s_init, gt_s_end, video_id = [], [], []\n",
    "for vid, vitem in data.iteritems():\n",
    "    if vitem['subset'] != SUBSET:\n",
    "        continue\n",
    "    for ann in vitem['annotations']:\n",
    "        gt_s_init.append(ann['segment'][0])\n",
    "        gt_s_end.append(ann['segment'][1])\n",
    "        video_id.append(video_id_fmt.format(vid))\n",
    "# Creates ground truth data frame.\n",
    "ground_truth_df = pd.DataFrame({'s-init': gt_s_init, \n",
    "                                's-end': gt_s_end,\n",
    "                                'video-id': video_id})"
   ]
  },
  {
   "cell_type": "code",
   "execution_count": 45,
   "metadata": {
    "collapsed": false
   },
   "outputs": [
    {
     "name": "stdout",
     "output_type": "stream",
     "text": [
      "Average number of proposals: 2.79719853837\n"
     ]
    }
   ],
   "source": [
    "# Looking for videos in the subset\n",
    "intended_videos = []\n",
    "for vid, vitem in data.iteritems():\n",
    "    if vitem['subset'] == SUBSET:\n",
    "        intended_videos.append(vid)\n",
    "\n",
    "# Reading proposals from HDF5 file.\n",
    "s_init, s_end, score, video_id = [], [], [], []\n",
    "fobj = results['results']\n",
    "for vid in fobj.keys():\n",
    "    if vid not in intended_videos:\n",
    "        continue\n",
    "    for prediction in fobj[vid]:\n",
    "        s_init.append(prediction['segment'][0])\n",
    "        s_end.append(prediction['segment'][1])\n",
    "        score.append(prediction['label'])\n",
    "        video_id.append(vid)\n",
    "    #s_init.extend(fobj[vid]['segment-init'].value.tolist())\n",
    "    #s_end.extend(fobj[vid]['segment-end'].value.tolist())\n",
    "    #score.extend(fobj[vid]['score'].value.tolist())\n",
    "    #video_id.extend(np.repeat(vid, fobj[vid]['segment-init'].value.size).tolist())\n",
    "proposals_df = pd.DataFrame({'s-init': s_init, \n",
    "                             's-end': s_end, \n",
    "                             'score': score,\n",
    "                             'video-id': video_id})\n",
    "print 'Average number of proposals: {}'.format(proposals_df.shape[0] / float(len(intended_videos)))"
   ]
  },
  {
   "cell_type": "code",
   "execution_count": 46,
   "metadata": {
    "collapsed": true
   },
   "outputs": [],
   "source": [
    "def segment_iou(target_segments, test_segments):\n",
    "    \"\"\"Compute intersection over union btw segments\n",
    "    Parameters\n",
    "    ----------\n",
    "    target_segments : ndarray\n",
    "        2-dim array in format [m x 2:=[init, end]]\n",
    "    test_segments : ndarray\n",
    "        2-dim array in format [n x 2:=[init, end]]\n",
    "    Outputs\n",
    "    -------\n",
    "    iou : ndarray\n",
    "        2-dim array [m x n] with IOU ratio.\n",
    "    Note: It assumes that target-segments are more scarce that test-segments\n",
    "    \"\"\"\n",
    "    if target_segments.ndim != 2 or test_segments.ndim != 2:\n",
    "        raise ValueError('Dimension of arguments is incorrect')\n",
    "\n",
    "    m, n = target_segments.shape[0], test_segments.shape[0]\n",
    "    iou = np.empty((m, n))\n",
    "    for i in xrange(m):\n",
    "        tt1 = np.maximum(target_segments[i, 0], test_segments[:, 0])\n",
    "        tt2 = np.minimum(target_segments[i, 1], test_segments[:, 1])\n",
    "\n",
    "        # Non-negative overlap score\n",
    "        intersection = (tt2 - tt1).clip(0)\n",
    "        union = ((test_segments[:, 1] - test_segments[:, 0]) +\n",
    "                 (target_segments[i, 1] - target_segments[i, 0]) -\n",
    "                 intersection)\n",
    "        # Compute overlap as the ratio of the intersection\n",
    "        # over union of two segments at the frame level.\n",
    "        iou[i, :] = intersection / union\n",
    "    return iou\n",
    "\n",
    "def recall_vs_iou_thresholds(proposal_df, df, iou_threshold=np.array([0.5])):\n",
    "    vds = proposal_df['video-id'].unique()\n",
    "    score_lst = []\n",
    "    # Compute iou score\n",
    "    for i, v in enumerate(vds):\n",
    "        # Proposals\n",
    "        idx = proposal_df['video-id'] == v\n",
    "        this_df = proposal_df.loc[idx]\n",
    "        proposals = np.stack((this_df['s-init'], \n",
    "                              this_df['s-end']), axis=-1)\n",
    "\n",
    "        # Sort proposals\n",
    "        idx = this_df['score'].argsort()[::-1]\n",
    "        proposals = proposals[idx, :]\n",
    "\n",
    "        # Annotations\n",
    "        jdx = df['video-id'] == v\n",
    "        ann_df = df.loc[jdx]\n",
    "        annotations = np.stack((ann_df['s-init'],\n",
    "                                ann_df['s-end']), axis=-1)\n",
    "        if proposals.ndim == 1:\n",
    "            proposals = proposals[np.newaxis, :]\n",
    "        score_lst.append(segment_iou(annotations, proposals))\n",
    "        if not (i+1)%500:\n",
    "            print 'Scored videos: {}'.format(i+1)\n",
    "    matches = np.zeros((vds.shape[0], iou_threshold.shape[0]))\n",
    "    pos = np.zeros(vds.shape[0])\n",
    "    # Matching\n",
    "    recall = np.empty(iou_threshold.shape[0])\n",
    "    for cidx, this_iou in enumerate(iou_threshold):\n",
    "        # Score analysis per video.\n",
    "        for i, sc in enumerate(score_lst):\n",
    "            pos[i] = sc.shape[0] # Positives per video.\n",
    "            lmt = int(sc.shape[1])\n",
    "            matches[i, cidx] = ((sc[:, :lmt] >= this_iou).sum(axis=1) > 0).sum()\n",
    "        this_recall = matches[:, cidx].sum() / pos.sum()\n",
    "        recall[cidx] = this_recall\n",
    "    return recall"
   ]
  },
  {
   "cell_type": "code",
   "execution_count": 47,
   "metadata": {
    "collapsed": false
   },
   "outputs": [
    {
     "name": "stderr",
     "output_type": "stream",
     "text": [
      "/mnt/imatge-work/amontes/activitynet/venv/lib/python2.7/site-packages/ipykernel/__main__.py:47: VisibleDeprecationWarning: using a non-integer number instead of an integer will result in an error in the future\n"
     ]
    },
    {
     "name": "stdout",
     "output_type": "stream",
     "text": [
      "Scored videos: 500\n",
      "Scored videos: 1000\n",
      "Scored videos: 1500\n",
      "Scored videos: 2000\n",
      "Scored videos: 2500\n",
      "Scored videos: 3000\n"
     ]
    }
   ],
   "source": [
    "iou_thrs = np.arange(0.1, 0.6, 0.1)\n",
    "recall = recall_vs_iou_thresholds(proposals_df, ground_truth_df, iou_threshold=iou_thrs)"
   ]
  },
  {
   "cell_type": "code",
   "execution_count": 48,
   "metadata": {
    "collapsed": false
   },
   "outputs": [
    {
     "data": {
      "image/png": "[encoded data removed]",
      "text/plain": [
       "<matplotlib.figure.Figure at 0xeae43d0>"
      ]
     },
     "metadata": {},
     "output_type": "display_data"
    }
   ],
   "source": [
    "fn_size = 14\n",
    "plt.figure(num=None, figsize=(10, 5))\n",
    "plt.plot(iou_thrs, recall, linewidth=4, color=np.array([178,223,138])/255.0)\n",
    "plt.xlabel('Temporal IoU', fontsize=fn_size)\n",
    "plt.ylabel('Recall', fontsize=fn_size)\n",
    "plt.grid(b=True, which=\"both\")\n",
    "plt.setp(plt.axes().get_xticklabels(), fontsize=fn_size)\n",
    "plt.setp(plt.axes().get_yticklabels(), fontsize=fn_size)\n",
    "plt.xlim([0.1, 0.5])\n",
    "plt.ylim([0, 1])\n",
    "plt.show()"
   ]
  },
  {
   "cell_type": "code",
   "execution_count": null,
   "metadata": {
    "collapsed": true
   },
   "outputs": [],
   "source": []
  }
 ],
 "metadata": {
  "kernelspec": {
   "display_name": "Python 2",
   "language": "python",
   "name": "python2"
  },
  "language_info": {
   "codemirror_mode": {
    "name": "ipython",
    "version": 2
   },
   "file_extension": ".py",
   "mimetype": "text/x-python",
   "name": "python",
   "nbconvert_exporter": "python",
   "pygments_lexer": "ipython2",
   "version": "2.7.3"
  }
 },
 "nbformat": 4,
 "nbformat_minor": 0
}
