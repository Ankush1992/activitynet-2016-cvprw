{
 "cells": [
  {
   "cell_type": "code",
   "execution_count": 1,
   "metadata": {
    "collapsed": false
   },
   "outputs": [],
   "source": [
    "import h5py\n",
    "\n",
    "f_training_data = h5py.File('training_data_stateful.hdf5', 'r+')"
   ]
  },
  {
   "cell_type": "code",
   "execution_count": 2,
   "metadata": {
    "collapsed": false
   },
   "outputs": [
    {
     "data": {
      "text/plain": [
       "[u'X_features', u'X_prev_output', u'Y']"
      ]
     },
     "execution_count": 2,
     "metadata": {},
     "output_type": "execute_result"
    }
   ],
   "source": [
    "f_training_data.keys()"
   ]
  },
  {
   "cell_type": "code",
   "execution_count": 3,
   "metadata": {
    "collapsed": false
   },
   "outputs": [
    {
     "name": "stdout",
     "output_type": "stream",
     "text": [
      "Loading Data...\n"
     ]
    },
    {
     "name": "stderr",
     "output_type": "stream",
     "text": [
      " 98% (253 of 256) |####################### | Elapsed Time: 0:00:29 ETA:  0:00:00"
     ]
    },
    {
     "name": "stdout",
     "output_type": "stream",
     "text": [
      "End loading data!\n",
      "Input features shape: (2560, 20, 4096)\n",
      "Input previous output shape: (2560, 20, 202)\n",
      "Output shape: (2560, 20, 201)\n",
      "\n"
     ]
    },
    {
     "name": "stderr",
     "output_type": "stream",
     "text": [
      "\r",
      "100% (256 of 256) |########################| Elapsed Time: 0:00:29 Time: 0:00:29\n"
     ]
    }
   ],
   "source": [
    "from work.processing.data import load_features_data_h5_feedback\n",
    "from work.environment import FEATURES_DATASET_FILE, OUTPUTS_DATASET_FILE\n",
    "\n",
    "print('Loading Data...')\n",
    "f_input = h5py.File(FEATURES_DATASET_FILE, 'r')\n",
    "f_output = h5py.File(OUTPUTS_DATASET_FILE, 'r')\n",
    "X_features, X_output, Y = load_features_data_h5_feedback(f_input, f_output, 20, 256, subset='validation',\n",
    "                                                        max_nb_videos=400)\n",
    "print('End loading data!')\n",
    "\n",
    "print('Input features shape: {}'.format(X_features.shape))\n",
    "print('Input previous output shape: {}'.format(X_output.shape))\n",
    "print('Output shape: {}\\n'.format(Y.shape))"
   ]
  },
  {
   "cell_type": "code",
   "execution_count": 4,
   "metadata": {
    "collapsed": false
   },
   "outputs": [
    {
     "data": {
      "text/plain": [
       "[u'X_features',\n",
       " u'X_features_val',\n",
       " u'X_prev_output',\n",
       " u'X_prev_output_val',\n",
       " u'Y',\n",
       " u'Y_val']"
      ]
     },
     "execution_count": 4,
     "metadata": {},
     "output_type": "execute_result"
    }
   ],
   "source": [
    "f_training_data.create_dataset('X_features_val', data=X_features)\n",
    "f_training_data.create_dataset('X_prev_output_val', data=X_output)\n",
    "f_training_data.create_dataset('Y_val', data=Y)\n",
    "f_training_data.keys()"
   ]
  },
  {
   "cell_type": "code",
   "execution_count": null,
   "metadata": {
    "collapsed": true
   },
   "outputs": [],
   "source": []
  }
 ],
 "metadata": {
  "kernelspec": {
   "display_name": "Python 2",
   "language": "python",
   "name": "python2"
  },
  "language_info": {
   "codemirror_mode": {
    "name": "ipython",
    "version": 2
   },
   "file_extension": ".py",
   "mimetype": "text/x-python",
   "name": "python",
   "nbconvert_exporter": "python",
   "pygments_lexer": "ipython2",
   "version": "2.7.3"
  }
 },
 "nbformat": 4,
 "nbformat_minor": 0
}
