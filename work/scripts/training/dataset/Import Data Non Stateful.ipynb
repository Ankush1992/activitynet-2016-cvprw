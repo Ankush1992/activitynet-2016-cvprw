{
 "cells": [
  {
   "cell_type": "code",
   "execution_count": 1,
   "metadata": {
    "collapsed": true
   },
   "outputs": [],
   "source": [
    "import h5py\n",
    "import numpy as np\n",
    "from progressbar import ProgressBar\n",
    "\n",
    "from work.environment import FEATURES_DATASET_FILE, OUTPUTS_DATASET_FILE\n",
    "\n",
    "f_features = h5py.File(FEATURES_DATASET_FILE, 'r')\n",
    "f_output = h5py.File(OUTPUTS_DATASET_FILE, 'r')"
   ]
  },
  {
   "cell_type": "code",
   "execution_count": 7,
   "metadata": {
    "collapsed": false
   },
   "outputs": [
    {
     "name": "stderr",
     "output_type": "stream",
     "text": [
      "100% (107361 of 107361) |##################| Elapsed Time: 0:20:05 Time: 0:20:05\n",
      "100% (53273 of 53273) |####################| Elapsed Time: 0:10:52 Time: 0:10:52\n"
     ]
    }
   ],
   "source": [
    "subsets = ('training', 'validation',)\n",
    "\n",
    "f_file = h5py.File('./training_data_prediction.hdf5', 'w')\n",
    "\n",
    "\n",
    "for subset in subsets:\n",
    "    nb_clips = np.array([f_features[subset][key].shape[0] for key in f_features[subset].keys()], dtype=np.float32)\n",
    "    nb_sequences = np.ceil(nb_clips / 20)\n",
    "    total_nb_sequences = np.sum(nb_sequences).astype(np.int64)\n",
    "    \n",
    "    f_dataset = f_file.create_group(subset)\n",
    "    input_features = np.zeros((total_nb_sequences, 20, 4096))\n",
    "    classification_output = np.zeros((total_nb_sequences, 201))\n",
    "    detection_output = np.zeros((total_nb_sequences, 20, 1))\n",
    "    \n",
    "    progbar = ProgressBar(max_value=total_nb_sequences)\n",
    "    pos = 0\n",
    "    progbar.update(pos)\n",
    "    for k in f_features[subset].keys():\n",
    "        features = f_features[subset][k]\n",
    "        output = f_output[subset][k]\n",
    "        \n",
    "        nb_sequences, input_, classification, detection = get_input_and_output_for_video(features, output)\n",
    "        input_features[pos:pos+nb_sequences,:,:] = input_\n",
    "        classification_output[pos:pos+nb_sequences,:] = classification\n",
    "        detection_output[pos:pos+nb_sequences,:,:] = detection\n",
    "        \n",
    "        pos += nb_sequences\n",
    "        progbar.update(pos)\n",
    "    progbar.finish()\n",
    "        \n",
    "    total_length = int(total_nb_sequences)//16 * 16\n",
    "    f_dataset.create_dataset('input_features', data=input_features[:total_length,:,:], chunks=(4, 20, 4096), dtype='float32')\n",
    "    f_dataset.create_dataset('classification_output', data=classification_output[:total_length,:], chunks=(256, 201), dtype='float32')\n",
    "    f_dataset.create_dataset('detection_output', data=detection_output[:total_length,:,:], chunks=(256, 20, 1), dtype='float32')\n",
    "    if subset == 'training':\n",
    "        sample_weights = np.ones(input_features.shape[:2])\n",
    "        sample_weights[np.all(input_features == 0, axis=2)] = 0\n",
    "        f_dataset.create_dataset('sample_weights', data=sample_weights[:total_length,:], chunks=(256,20), dtype='float32')\n",
    "    "
   ]
  },
  {
   "cell_type": "code",
   "execution_count": 4,
   "metadata": {
    "collapsed": false
   },
   "outputs": [],
   "source": [
    "import numpy as np\n",
    "\n",
    "def get_input_and_output_for_video(features, output):\n",
    "    timesteps = 20\n",
    "    nb_classes = 201\n",
    "    nb_clips = int(features.shape[0])\n",
    "    assert output.shape[0] == nb_clips\n",
    "    if nb_clips < timesteps:\n",
    "        features_new = np.zeros((timesteps, 4096))\n",
    "        features_new[:nb_clips,:] = features\n",
    "        features = features_new\n",
    "        output_new = np.zeros((timesteps,))\n",
    "        output_new[:nb_clips] = output\n",
    "        output = output_new\n",
    "        nb_clips = int(features.shape[0])\n",
    "    \n",
    "    nb_sequences = np.ceil(nb_clips/float(timesteps)).astype(np.int32)\n",
    "    \n",
    "    input_ = np.zeros((nb_sequences, timesteps, 4096))\n",
    "    classification = np.zeros((nb_sequences, nb_classes))\n",
    "    detection = np.zeros((nb_sequences, timesteps, 1))\n",
    "    \n",
    "    for i in range(nb_sequences):\n",
    "        if (i+1)*timesteps <= nb_clips:\n",
    "            start_index, end_index = i*timesteps, (i+1)*timesteps\n",
    "        else:\n",
    "            assert (i+1) == nb_sequences\n",
    "            start_index, end_index = nb_clips-timesteps, nb_clips\n",
    "        input_[i,:,:] = features[start_index:end_index,:]\n",
    "    \n",
    "        seq_output = output[start_index:end_index]\n",
    "        detection[i,:,0][seq_output[:] != 0] = 1\n",
    "        activity_index = np.max(seq_output).astype(np.int32)\n",
    "        classification[i, activity_index] = 1\n",
    "        \n",
    "        \n",
    "    \n",
    "    return nb_sequences, input_, classification, detection"
   ]
  },
  {
   "cell_type": "code",
   "execution_count": 5,
   "metadata": {
    "collapsed": false
   },
   "outputs": [],
   "source": [
    "def test_get_input_and_output_for_video():\n",
    "    test_input = np.random.random((5, 4096))\n",
    "    test_output = np.ones((5,))*5\n",
    "    nb_sequences, input_, classification, detection = get_input_and_output_for_video(test_input, test_output)\n",
    "    \n",
    "    assert nb_sequences == 1\n",
    "    assert input_.shape[0] == 1\n",
    "    assert np.all(input_[0,:5,:] == test_input)\n",
    "    assert np.all(input_[0,5:,:] == 0)\n",
    "    assert classification[0,5] == 1\n",
    "    assert np.all(classification[0,np.arange(201) !=5] == 0)\n",
    "    assert np.all(detection[0,:5] == 1)\n",
    "    assert np.all(detection[0,5:] == 0)\n",
    "    \n",
    "    test_input = np.random.random((40, 4096))\n",
    "    test_output = np.zeros((40,))\n",
    "    test_output[18:25] = 20\n",
    "    nb_sequences, input_, classification, detection = get_input_and_output_for_video(test_input, test_output)\n",
    "    \n",
    "    assert nb_sequences == 2\n",
    "    assert input_.shape[0] == 2\n",
    "    assert np.all(input_[0] == test_input[:20])\n",
    "    assert np.all(input_[1] == test_input[20:])\n",
    "    assert np.all(classification[:, 20] == 1)\n",
    "    assert np.all(classification[:, np.arange(201)!=20] == 0)\n",
    "    assert np.all(detection[0,:18] == 0)\n",
    "    assert np.all(detection[0,18:] == 1)\n",
    "    assert np.all(detection[1,:5] == 1)\n",
    "    assert np.all(detection[1,5:] == 0)\n",
    "    \n",
    "    test_input = np.random.random((35, 4096))\n",
    "    test_output = np.zeros((35,))\n",
    "    test_output[8:15] = 20\n",
    "    nb_sequences, input_, classification, detection = get_input_and_output_for_video(test_input, test_output)\n",
    "    \n",
    "    assert nb_sequences == 2\n",
    "    assert input_.shape[0] == 2\n",
    "    assert np.all(input_[0] == test_input[:20])\n",
    "    assert np.all(input_[1] == test_input[15:])\n",
    "    assert np.all(classification[0, 20] == 1)\n",
    "    assert np.all(classification[0, np.arange(201)!=20] == 0)\n",
    "    assert np.all(classification[1,0] == 1)\n",
    "    assert np.all(classification[1, np.arange(1, 201)] == 0)\n",
    "    assert np.all(detection[0,:8] == 0)\n",
    "    assert np.all(detection[0,8:15] == 1)\n",
    "    assert np.all(detection[1,:] == 0)\n",
    "    \n",
    "test_get_input_and_output_for_video()"
   ]
  },
  {
   "cell_type": "code",
   "execution_count": null,
   "metadata": {
    "collapsed": false
   },
   "outputs": [],
   "source": [
    "print('echo')"
   ]
  },
  {
   "cell_type": "code",
   "execution_count": null,
   "metadata": {
    "collapsed": true
   },
   "outputs": [],
   "source": [
    "f_file.close()"
   ]
  },
  {
   "cell_type": "code",
   "execution_count": null,
   "metadata": {
    "collapsed": true
   },
   "outputs": [],
   "source": [
    "import h5py\n",
    "import numpy as np\n",
    "\n",
    "f_file = h5py.File('./training_data_prediction.hdf5', 'r+')\n"
   ]
  },
  {
   "cell_type": "code",
   "execution_count": null,
   "metadata": {
    "collapsed": false
   },
   "outputs": [],
   "source": [
    "sample_weights = np.ones(f_file['training']['input_features'].shape[:2])\n",
    "sample_weights[np.all(f_file['training']['input_features'][:,:,:] == 0, axis=2)] = 0"
   ]
  },
  {
   "cell_type": "code",
   "execution_count": null,
   "metadata": {
    "collapsed": false
   },
   "outputs": [],
   "source": [
    "f_file.keys()\n",
    "a=_[0]"
   ]
  },
  {
   "cell_type": "code",
   "execution_count": null,
   "metadata": {
    "collapsed": false
   },
   "outputs": [],
   "source": [
    "f_file[a].keys()"
   ]
  },
  {
   "cell_type": "code",
   "execution_count": 14,
   "metadata": {
    "collapsed": false
   },
   "outputs": [
    {
     "data": {
      "text/plain": [
       "0.00081780162256312816"
      ]
     },
     "execution_count": 14,
     "metadata": {},
     "output_type": "execute_result"
    }
   ],
   "source": [
    "np.sum(sample_weights==0).astype(np.float32)/sample_weights.size"
   ]
  },
  {
   "cell_type": "code",
   "execution_count": 16,
   "metadata": {
    "collapsed": false
   },
   "outputs": [
    {
     "data": {
      "text/plain": [
       "208"
      ]
     },
     "execution_count": 16,
     "metadata": {},
     "output_type": "execute_result"
    }
   ],
   "source": [
    "f_file['validation']['input_features'].shape[0]//256"
   ]
  },
  {
   "cell_type": "code",
   "execution_count": 17,
   "metadata": {
    "collapsed": true
   },
   "outputs": [],
   "source": [
    "f_file.close()"
   ]
  },
  {
   "cell_type": "code",
   "execution_count": null,
   "metadata": {
    "collapsed": true
   },
   "outputs": [],
   "source": []
  }
 ],
 "metadata": {
  "kernelspec": {
   "display_name": "Python 2",
   "language": "python",
   "name": "python2"
  },
  "language_info": {
   "codemirror_mode": {
    "name": "ipython",
    "version": 2
   },
   "file_extension": ".py",
   "mimetype": "text/x-python",
   "name": "python",
   "nbconvert_exporter": "python",
   "pygments_lexer": "ipython2",
   "version": "2.7.3"
  }
 },
 "nbformat": 4,
 "nbformat_minor": 0
}
