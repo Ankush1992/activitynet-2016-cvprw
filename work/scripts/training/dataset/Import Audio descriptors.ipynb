{
 "cells": [
  {
   "cell_type": "code",
   "execution_count": 1,
   "metadata": {
    "collapsed": false
   },
   "outputs": [
    {
     "name": "stdout",
     "output_type": "stream",
     "text": [
      "Number of videos: 19752\n",
      "Number of videos: 19752\n"
     ]
    }
   ],
   "source": [
    "import os\n",
    "import h5py\n",
    "import numpy as np\n",
    "\n",
    "from work.environment import FEATURES_DATASET_FILE\n",
    "from work.dataset.activitynet import ActivityNetDataset\n",
    "\n",
    "dataset = ActivityNetDataset(\n",
    "    videos_path='../../../../dataset/videos.json',\n",
    "    labels_path='../../../../dataset/labels.txt'\n",
    ")\n",
    "\n",
    "f_audio_descriptors = h5py.File('audio_descriptors.hdf5', 'w')\n",
    "f_spec = f_audio_descriptors.create_group('spec')\n",
    "f_mfcc = f_audio_descriptors.create_group('mfcc')\n",
    "video_ids = []\n",
    "with h5py.File(FEATURES_DATASET_FILE, 'r') as f_features:\n",
    "    for subset in ('training', 'validation', 'testing'):\n",
    "        video_ids += f_features[subset].keys()\n",
    "print('Number of videos: {}'.format(len(video_ids)))\n",
    "\n",
    "videos = dataset.videos\n",
    "to_remove = []\n",
    "for video in videos:\n",
    "    if video.video_id not in video_ids:\n",
    "        to_remove.append(video)\n",
    "for v in to_remove:\n",
    "    dataset.videos.remove(v)\n",
    "    \n",
    "print('Number of videos: {}'.format(len(videos)))\n",
    "\n",
    "dict_nb_clips = {}\n",
    "for v in videos:\n",
    "    dict_nb_clips.update({v.video_id: v.num_frames//16})"
   ]
  },
  {
   "cell_type": "markdown",
   "metadata": {},
   "source": [
    "### Spectral Descriptors"
   ]
  },
  {
   "cell_type": "code",
   "execution_count": 2,
   "metadata": {
    "collapsed": false
   },
   "outputs": [
    {
     "name": "stderr",
     "output_type": "stream",
     "text": [
      "100% (19242 of 19242) |####################| Elapsed Time: 0:01:31 Time: 0:01:31\n"
     ]
    }
   ],
   "source": [
    "from progressbar import ProgressBar\n",
    "\n",
    "path = '/imatge/iesquerra/work/activitynet/spec'\n",
    "files = os.listdir(path)\n",
    "\n",
    "progbar = ProgressBar(max_value=len(files))\n",
    "count = 0\n",
    "progbar.update(count)\n",
    "videos_not_spec = []\n",
    "videos_spec = []\n",
    "for file_name in files:\n",
    "    video_id = file_name[:11]\n",
    "    videos_spec.append(video_id)\n",
    "\n",
    "    file_path = os.path.join(path, file_name)\n",
    "    descriptor = np.loadtxt(file_path, dtype=np.float32).reshape(1,-1)\n",
    "    assert descriptor.ndim == 2\n",
    "    assert descriptor.shape[1] == 8, descriptor.shape\n",
    "    f_spec.create_dataset(video_id, data=descriptor, dtype='float32')\n",
    "    count += 1\n",
    "    progbar.update(count)\n",
    "progbar.finish()"
   ]
  },
  {
   "cell_type": "code",
   "execution_count": 3,
   "metadata": {
    "collapsed": false,
    "scrolled": true
   },
   "outputs": [
    {
     "name": "stdout",
     "output_type": "stream",
     "text": [
      "Number of videos without spec: 569\n"
     ]
    }
   ],
   "source": [
    "videos_without_spec = []\n",
    "for v_id in video_ids:\n",
    "    if v_id not in videos_spec:\n",
    "        videos_without_spec.append(v_id)\n",
    "print('Number of videos without spec: {}'.format(len(videos_without_spec)))"
   ]
  },
  {
   "cell_type": "code",
   "execution_count": null,
   "metadata": {
    "collapsed": false
   },
   "outputs": [
    {
     "name": "stderr",
     "output_type": "stream",
     "text": [
      " 99% (19467 of 19527) |################### | Elapsed Time: 2:20:44 ETA:  0:00:00"
     ]
    },
    {
     "name": "stdout",
     "output_type": "stream",
     "text": [
      "Number of videos without mfcc: 365\n"
     ]
    },
    {
     "name": "stderr",
     "output_type": "stream",
     "text": [
      "\r",
      "100% (19527 of 19527) |####################| Elapsed Time: 2:20:45 Time: 2:20:45\n"
     ]
    }
   ],
   "source": [
    "import warnings\n",
    "\n",
    "path = '/imatge/iesquerra/work/activitynet/mfcc'\n",
    "files = os.listdir(path)\n",
    "\n",
    "progbar = ProgressBar(max_value=len(files))\n",
    "count = 0\n",
    "progbar.update(count)\n",
    "videos_not_mfcc = []\n",
    "with warnings.catch_warnings():\n",
    "    warnings.filterwarnings('error')\n",
    "    for video in videos:\n",
    "        try:\n",
    "            file_name = video.video_id+'.mfcc'\n",
    "            if file_name not in files:\n",
    "                videos_not_mfcc.append(video.video_id)\n",
    "                continue\n",
    "            file_path = os.path.join(path, file_name)\n",
    "            descriptor = np.loadtxt(file_path, dtype=np.float32)\n",
    "            if descriptor.shape == (0,):\n",
    "                videos_not_mfcc.append(video.video_id)\n",
    "                continue\n",
    "            assert descriptor.ndim == 2, 'descriptor.ndim: {}, descriptor.shape:{}'.format(descriptor.ndim, descriptor.shape)\n",
    "            assert descriptor.shape[1] == 40, descriptor.shape\n",
    "\n",
    "            nb_clips = video.num_frames // 16\n",
    "            mfcc_descriptor = np.zeros((nb_clips, 80))\n",
    "            step = descriptor.shape[0] // nb_clips\n",
    "            for i in range(nb_clips):\n",
    "                s, e = i * step, (i + 1) * step\n",
    "                d = descriptor[s:e,:]\n",
    "                mfcc_descriptor[i,:40] = np.mean(d, axis=0)\n",
    "                mfcc_descriptor[i,40:] = np.std(d, axis=0)\n",
    "            f_mfcc.create_dataset(video.video_id, data=mfcc_descriptor, dtype='float32')\n",
    "        except:\n",
    "            videos_not_mfcc.append(video.video_id)\n",
    "        count += 1\n",
    "        progbar.update(count)\n",
    "    progbar.finish()\n",
    "\n",
    "print('Number of videos without mfcc: {}'.format(len(videos_not_mfcc)))"
   ]
  },
  {
   "cell_type": "code",
   "execution_count": null,
   "metadata": {
    "collapsed": true
   },
   "outputs": [],
   "source": [
    "f_audio_descriptors.close()"
   ]
  }
 ],
 "metadata": {
  "kernelspec": {
   "display_name": "Python 2",
   "language": "python",
   "name": "python2"
  },
  "language_info": {
   "codemirror_mode": {
    "name": "ipython",
    "version": 2
   },
   "file_extension": ".py",
   "mimetype": "text/x-python",
   "name": "python",
   "nbconvert_exporter": "python",
   "pygments_lexer": "ipython2",
   "version": "2.7.3"
  }
 },
 "nbformat": 4,
 "nbformat_minor": 0
}
