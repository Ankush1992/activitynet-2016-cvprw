{
 "cells": [
  {
   "cell_type": "code",
   "execution_count": 1,
   "metadata": {
    "collapsed": false
   },
   "outputs": [
    {
     "name": "stderr",
     "output_type": "stream",
     "text": [
      "Using Theano backend.\n"
     ]
    }
   ],
   "source": [
    "from work.models.decoder import RecurrentNetwork\n",
    "\n",
    "model = RecurrentNetwork(1, 1, stateful=True)\n",
    "model.load_weights('../models/training/recurrent/recurrent_decoder_01_e100.hdf5')\n",
    "model.compile(loss='categorical_crossentropy', optimizer='rmsprop', metrics=['accuracy'])"
   ]
  },
  {
   "cell_type": "code",
   "execution_count": 2,
   "metadata": {
    "collapsed": false
   },
   "outputs": [],
   "source": [
    "from work.dataset.activitynet import ActivityNetDataset\n",
    "\n",
    "dataset = ActivityNetDataset(\n",
    "    videos_path='../dataset/videos.json',\n",
    "    labels_path='../dataset/labels.txt'\n",
    ")"
   ]
  },
  {
   "cell_type": "code",
   "execution_count": 3,
   "metadata": {
    "collapsed": false
   },
   "outputs": [
    {
     "name": "stdout",
     "output_type": "stream",
     "text": [
      "{'duration': 149.61, 'annotations': [{'segment': [12.603327708618549, 31.04152935641235], 'label': 'Plataform diving'}, {'segment': [38.510167998556675, 49.01294108907213], 'label': 'Plataform diving'}, {'segment': [54.38102511311336, 71.65225197307213], 'label': 'Plataform diving'}, {'segment': [62.31645367039172, 64.4170082884948], 'label': 'Plataform diving'}, {'segment': [67.45114273686593, 71.65225197307213], 'label': 'Plataform diving'}, {'segment': [73.98620154874222, 77.48712591224738], 'label': 'Plataform diving'}, {'segment': [78.88749565764942, 84.02218472412365], 'label': 'Plataform diving'}, {'segment': [109.46223509892775, 121.36537793484527], 'label': 'Plataform diving'}, {'segment': [131.1679661526597, 136.30265521913392], 'label': 'Plataform diving'}, {'segment': [137.00284009183497, 142.3709241158762], 'label': 'Plataform diving'}], 'resolution': '854x480', 'subset': 'validation', 'num_frames': 4478, 'url': 'https://www.youtube.com/watch?v=gwZleaX_ZR8'}\n"
     ]
    }
   ],
   "source": [
    "video = None\n",
    "for v in dataset.videos:\n",
    "    if v.video_id == 'gwZleaX_ZR8':\n",
    "        video = v\n",
    "print(video.serialize())\n",
    "video_path = '../downloads/dataset/validation/'+video.video_id+'.mp4'"
   ]
  },
  {
   "cell_type": "code",
   "execution_count": 4,
   "metadata": {
    "collapsed": false
   },
   "outputs": [
    {
     "name": "stdout",
     "output_type": "stream",
     "text": [
      "(279, 4096)\n",
      "(279, 1, 4096)\n",
      "279/279 [==============================] - 5s     \n"
     ]
    }
   ],
   "source": [
    "import numpy as np\n",
    "features = np.load('../downloads/features/gwZleaX_ZR8.npy')\n",
    "print(features[:,:].shape)\n",
    "nb_instances = features.shape[0]\n",
    "\n",
    "features = features.reshape(nb_instances, 1, 4096)\n",
    "print(features.shape)\n",
    "model.reset_states()\n",
    "YY=model.predict_classes(features, batch_size=1)\n"
   ]
  },
  {
   "cell_type": "code",
   "execution_count": 5,
   "metadata": {
    "collapsed": false
   },
   "outputs": [
    {
     "name": "stdout",
     "output_type": "stream",
     "text": [
      "[  0   0   0   0   0   0   0   0   0   0   0   0   0   0   0   0   0   0\n",
      "   0   0   0   0   0   0 180 180 180 180 180 180 180 180 180 180 180 180\n",
      " 180 180 180 180 180 180 180 180 180 180 180 180 180 180 180 180 180 180\n",
      " 180 180 180 180   0   0   0   0   0   0   0   0   0   0   0   0   0   0\n",
      " 180 180 180 180 180 180 180 180 180 180 180 180 180 180 180 180 180 180\n",
      " 180 180   0   0   0   0   0   0   0   0   0   0 180 180 180 180 180 180\n",
      " 180 180 180 180 180 180 180 180 180 180 180 180 180 180 180 180 180 180\n",
      " 180 180 180 180 180 180 180 180   0   0   0   0 180 180 180 180 180 180\n",
      " 180   0   0   0 180 180 180 180 180 180 180 180 180   0   0   0   0   0\n",
      "   0   0   0   0   0   0   0   0   0   0   0   0   0   0   0   0   0   0\n",
      "   0   0   0   0   0   0   0   0   0   0   0   0   0   0   0   0   0   0\n",
      "   0   0   0   0   0   0   0 180 180 180 180 180 180 180 180 180 180 180\n",
      " 180 180 180 180 180 180 180 180 180 180 180   0   0   0   0   0   0   0\n",
      "   0   0   0   0   0   0   0   0   0   0   0 180 180 180 180 180 180 180\n",
      " 180 180 180   0 180 180 180 180 180 180 180 180 180 180   0   0   0   0\n",
      "   0   0   0   0   0   0   0   0   0]\n"
     ]
    }
   ],
   "source": [
    "video.get_video_instances(16, 0)\n",
    "ground_trouth = np.array([instance.output for instance in video.instances])\n",
    "print(ground_trouth)"
   ]
  },
  {
   "cell_type": "code",
   "execution_count": 6,
   "metadata": {
    "collapsed": false
   },
   "outputs": [
    {
     "name": "stdout",
     "output_type": "stream",
     "text": [
      "(279, 1)\n",
      "[  0   0   7  14  14   0   0   0   0   0   0   0   0   0   0   0   0   0\n",
      "   0   0   0 180 180 180 180   0   0   0   0 180 180   0   0 180 180   0\n",
      "   0   0   0 180 180   0   0   0 180 180 180 180   0   0   0   0   0   0\n",
      "   0 180 180 180 180   0   0   0 180   0   0   0 180 180 180 180 180   0\n",
      "   0   0   0   0   0   0 180 180 180 180 180 180 180 180 180 180 180 180\n",
      " 180 180 180 180 180   0   0   0   0   0 180   0   0   0   0   0   0 180\n",
      " 180 180   0   0   0 180 180 180 180 180   0 180 180 180 180   0   0   0\n",
      "   0   0   0   0   0   0 180 180 180   0   0   0   0   0   0   0 180 180\n",
      " 180 180 180 180   0   0 180 180 180 180 180   0 180 180 180 180 180   0\n",
      "   0   0   0   0   0   0   0 180 180   0 180 180 180 180   0   0   0   0\n",
      "   0   0   0   0 180 180 180 180 180 180 180 180 180 180 180 180 180 180\n",
      " 180 180 180 180 180 180 180   0   0 180 180 180 180   0   0   0   0   0\n",
      "   0   0   0 180   0 180   0   0   0 180 180   0 180 180 180 180 180 180\n",
      " 180   0   0   0   0   0   0 180 180 180 180 180 180 180   0   0   0   0\n",
      " 180 180 180 180 180 180 180   0   0   0   0   0   0   0 180 180 180 180\n",
      " 180   0   0   0   0   0   0   0   0]\n",
      "[  0   0   0   0   0   0   0   0   0   0   0   0   0   0   0   0   0   0\n",
      "   0   0   0   0   0   0 180 180 180 180 180 180 180 180 180 180 180 180\n",
      " 180 180 180 180 180 180 180 180 180 180 180 180 180 180 180 180 180 180\n",
      " 180 180 180 180   0   0   0   0   0   0   0   0   0   0   0   0   0   0\n",
      " 180 180 180 180 180 180 180 180 180 180 180 180 180 180 180 180 180 180\n",
      " 180 180   0   0   0   0   0   0   0   0   0   0 180 180 180 180 180 180\n",
      " 180 180 180 180 180 180 180 180 180 180 180 180 180 180 180 180 180 180\n",
      " 180 180 180 180 180 180 180 180   0   0   0   0 180 180 180 180 180 180\n",
      " 180   0   0   0 180 180 180 180 180 180 180 180 180   0   0   0   0   0\n",
      "   0   0   0   0   0   0   0   0   0   0   0   0   0   0   0   0   0   0\n",
      "   0   0   0   0   0   0   0   0   0   0   0   0   0   0   0   0   0   0\n",
      "   0   0   0   0   0   0   0 180 180 180 180 180 180 180 180 180 180 180\n",
      " 180 180 180 180 180 180 180 180 180 180 180   0   0   0   0   0   0   0\n",
      "   0   0   0   0   0   0   0   0   0   0   0 180 180 180 180 180 180 180\n",
      " 180 180 180   0 180 180 180 180 180 180 180 180 180 180   0   0   0   0\n",
      "   0   0   0   0   0   0   0   0   0]\n"
     ]
    }
   ],
   "source": [
    "print(YY.shape)\n",
    "YY=YY.reshape(nb_instances)\n",
    "print(YY)\n",
    "print(ground_trouth)\n"
   ]
  },
  {
   "cell_type": "code",
   "execution_count": 7,
   "metadata": {
    "collapsed": false
   },
   "outputs": [
    {
     "data": {
      "text/plain": [
       "180"
      ]
     },
     "execution_count": 7,
     "metadata": {},
     "output_type": "execute_result"
    }
   ],
   "source": [
    "dataset.get_output_index(video.label)"
   ]
  },
  {
   "cell_type": "code",
   "execution_count": 8,
   "metadata": {
    "collapsed": false
   },
   "outputs": [
    {
     "name": "stdout",
     "output_type": "stream",
     "text": [
      "validation\n"
     ]
    }
   ],
   "source": [
    "print(video.subset)"
   ]
  },
  {
   "cell_type": "code",
   "execution_count": 9,
   "metadata": {
    "collapsed": false,
    "scrolled": true
   },
   "outputs": [
    {
     "name": "stdout",
     "output_type": "stream",
     "text": [
      "[ True  True False False False  True  True  True  True  True  True  True\n",
      "  True  True  True  True  True  True  True  True  True False False False\n",
      "  True False False False False  True  True False False  True  True False\n",
      " False False False  True  True False False False  True  True  True  True\n",
      " False False False False False False False  True  True  True False  True\n",
      "  True  True False  True  True  True False False False False False  True\n",
      " False False False False False False  True  True  True  True  True  True\n",
      "  True  True  True  True  True  True  True  True False False False  True\n",
      "  True  True  True  True False  True False False False False False  True\n",
      "  True  True False False False  True  True  True  True  True False  True\n",
      "  True  True  True False False False False False False False False False\n",
      "  True  True False  True  True  True False False False False  True  True\n",
      "  True False False False False False  True  True  True  True  True False\n",
      "  True False False False False  True  True  True  True  True  True  True\n",
      "  True False False  True False False False False  True  True  True  True\n",
      "  True  True  True  True False False False False False False False False\n",
      " False False False False False False False False False False False False\n",
      " False False False  True  True  True  True False False False False False\n",
      " False False False  True False  True False False False  True  True  True\n",
      " False False False False False False False  True  True  True  True  True\n",
      "  True False False False False  True  True  True False False False False\n",
      "  True  True  True False  True  True  True False False False False False\n",
      " False False False False False False False  True  True  True  True  True\n",
      "  True  True  True]\n"
     ]
    }
   ],
   "source": [
    "print(ground_trouth==YY)"
   ]
  },
  {
   "cell_type": "code",
   "execution_count": 10,
   "metadata": {
    "collapsed": false,
    "scrolled": false
   },
   "outputs": [
    {
     "name": "stdout",
     "output_type": "stream",
     "text": [
      "[142   0   0   0   0   0   0   1   0   0   0   0   0   0   2   0   0   0\n",
      "   0   0   0   0   0   0   0   0   0   0   0   0   0   0   0   0   0   0\n",
      "   0   0   0   0   0   0   0   0   0   0   0   0   0   0   0   0   0   0\n",
      "   0   0   0   0   0   0   0   0   0   0   0   0   0   0   0   0   0   0\n",
      "   0   0   0   0   0   0   0   0   0   0   0   0   0   0   0   0   0   0\n",
      "   0   0   0   0   0   0   0   0   0   0   0   0   0   0   0   0   0   0\n",
      "   0   0   0   0   0   0   0   0   0   0   0   0   0   0   0   0   0   0\n",
      "   0   0   0   0   0   0   0   0   0   0   0   0   0   0   0   0   0   0\n",
      "   0   0   0   0   0   0   0   0   0   0   0   0   0   0   0   0   0   0\n",
      "   0   0   0   0   0   0   0   0   0   0   0   0   0   0   0   0   0   0\n",
      " 134]\n"
     ]
    }
   ],
   "source": [
    "counts = np.bincount(YY)\n",
    "print(counts)"
   ]
  },
  {
   "cell_type": "code",
   "execution_count": 11,
   "metadata": {
    "collapsed": false
   },
   "outputs": [],
   "source": [
    "predicted_class = np.argmax(np.bincount(YY)[1:])+1"
   ]
  },
  {
   "cell_type": "code",
   "execution_count": 12,
   "metadata": {
    "collapsed": false
   },
   "outputs": [
    {
     "name": "stdout",
     "output_type": "stream",
     "text": [
      "180\n"
     ]
    }
   ],
   "source": [
    "print(predicted_class)"
   ]
  },
  {
   "cell_type": "code",
   "execution_count": 13,
   "metadata": {
    "collapsed": false
   },
   "outputs": [
    {
     "name": "stdout",
     "output_type": "stream",
     "text": [
      "[180  14   7  58  66  65  64  63  62  61  60  59  57  68  56  55  54  53\n",
      "  52  51  50  49  48  67  69  46  80  88  87  86  85  84  83  82  81  79\n",
      "  70  78  77  76  75  74  73  72  71  47  45 179  12  21  20  19  18  17\n",
      "  16  15  13  11  23  10   9   8   6   5   4   3   2  22  24  44  35  43\n",
      "  42  41  40  39  38  37  36  34  25  33  32  31  30  29  28  27  26  89\n",
      "  90  91 136 156 155 154 153 152 151 150 149 148 147 146 145 144 143 142\n",
      " 141 140 139 138 157 158 159 170 178 177 176 175 174 173 172 171 169 160\n",
      " 168 167 166 165 164 163 162 161 137 135  92 134 111 110 109 108 107 106\n",
      " 105 104 103 102 101 100  99  98  97  96  95  94  93 112 113 114 125 133\n",
      " 132 131 130 129 128 127 126 124 115 123 122 121 120 119 118 117 116   1]\n"
     ]
    },
    {
     "data": {
      "text/plain": [
       "array([ 0.97810219,  0.01459854,  0.00729927,  0.        ,  0.        ,\n",
       "        0.        ,  0.        ,  0.        ,  0.        ,  0.        ,\n",
       "        0.        ,  0.        ,  0.        ,  0.        ,  0.        ,\n",
       "        0.        ,  0.        ,  0.        ,  0.        ,  0.        ,\n",
       "        0.        ,  0.        ,  0.        ,  0.        ,  0.        ,\n",
       "        0.        ,  0.        ,  0.        ,  0.        ,  0.        ,\n",
       "        0.        ,  0.        ,  0.        ,  0.        ,  0.        ,\n",
       "        0.        ,  0.        ,  0.        ,  0.        ,  0.        ,\n",
       "        0.        ,  0.        ,  0.        ,  0.        ,  0.        ,\n",
       "        0.        ,  0.        ,  0.        ,  0.        ,  0.        ,\n",
       "        0.        ,  0.        ,  0.        ,  0.        ,  0.        ,\n",
       "        0.        ,  0.        ,  0.        ,  0.        ,  0.        ,\n",
       "        0.        ,  0.        ,  0.        ,  0.        ,  0.        ,\n",
       "        0.        ,  0.        ,  0.        ,  0.        ,  0.        ,\n",
       "        0.        ,  0.        ,  0.        ,  0.        ,  0.        ,\n",
       "        0.        ,  0.        ,  0.        ,  0.        ,  0.        ,\n",
       "        0.        ,  0.        ,  0.        ,  0.        ,  0.        ,\n",
       "        0.        ,  0.        ,  0.        ,  0.        ,  0.        ,\n",
       "        0.        ,  0.        ,  0.        ,  0.        ,  0.        ,\n",
       "        0.        ,  0.        ,  0.        ,  0.        ,  0.        ,\n",
       "        0.        ,  0.        ,  0.        ,  0.        ,  0.        ,\n",
       "        0.        ,  0.        ,  0.        ,  0.        ,  0.        ,\n",
       "        0.        ,  0.        ,  0.        ,  0.        ,  0.        ,\n",
       "        0.        ,  0.        ,  0.        ,  0.        ,  0.        ,\n",
       "        0.        ,  0.        ,  0.        ,  0.        ,  0.        ,\n",
       "        0.        ,  0.        ,  0.        ,  0.        ,  0.        ,\n",
       "        0.        ,  0.        ,  0.        ,  0.        ,  0.        ,\n",
       "        0.        ,  0.        ,  0.        ,  0.        ,  0.        ,\n",
       "        0.        ,  0.        ,  0.        ,  0.        ,  0.        ,\n",
       "        0.        ,  0.        ,  0.        ,  0.        ,  0.        ,\n",
       "        0.        ,  0.        ,  0.        ,  0.        ,  0.        ,\n",
       "        0.        ,  0.        ,  0.        ,  0.        ,  0.        ,\n",
       "        0.        ,  0.        ,  0.        ,  0.        ,  0.        ,\n",
       "        0.        ,  0.        ,  0.        ,  0.        ,  0.        ,\n",
       "        0.        ,  0.        ,  0.        ,  0.        ,  0.        ,\n",
       "        0.        ,  0.        ,  0.        ,  0.        ,  0.        ])"
      ]
     },
     "execution_count": 13,
     "metadata": {},
     "output_type": "execute_result"
    }
   ],
   "source": [
    "k_3 = np.argsort(counts[1:])[::-1][:] + 1\n",
    "print(k_3)\n",
    "\n",
    "(counts[k_3]/np.sum(counts[1:]))"
   ]
  },
  {
   "cell_type": "code",
   "execution_count": 15,
   "metadata": {
    "collapsed": false
   },
   "outputs": [
    {
     "name": "stdout",
     "output_type": "stream",
     "text": [
      "[180  14   7]\n",
      "[ 0.97810219  0.01459854  0.00729927]\n",
      "[ 0.97810219  0.01459854  0.00729927] Plataform diving\n",
      "[ 0.97810219  0.01459854  0.00729927] Bullfighting\n",
      "[ 0.97810219  0.01459854  0.00729927] Beach soccer\n"
     ]
    }
   ],
   "source": [
    "from work.processing.data import get_top_k_predictions, get_top_k_predictions_score\n",
    "\n",
    "top_3 = get_top_k_predictions(YY, 3)\n",
    "print(top_3)\n",
    "_, scores = get_top_k_predictions_score(YY, 3)\n",
    "print(scores)\n",
    "for index in top_3:\n",
    "    print(scores, dataset.labels[index][1])"
   ]
  },
  {
   "cell_type": "code",
   "execution_count": 16,
   "metadata": {
    "collapsed": false
   },
   "outputs": [
    {
     "name": "stdout",
     "output_type": "stream",
     "text": [
      "[  0   0   0   0   0   0   0   0   0   0   0   0   0   0   0   0   0   0\n",
      "   0   0   0   0   0   0 180 180 180 180 180 180 180 180 180 180 180 180\n",
      " 180 180 180 180 180 180 180 180 180 180 180 180 180 180 180 180 180 180\n",
      " 180 180 180 180   0   0   0   0   0   0   0   0   0   0   0   0   0   0\n",
      " 180 180 180 180 180 180 180 180 180 180 180 180 180 180 180 180 180 180\n",
      " 180 180   0   0   0   0   0   0   0   0   0   0 180 180 180 180 180 180\n",
      " 180 180 180 180 180 180 180 180 180 180 180 180 180 180 180 180 180 180\n",
      " 180 180 180 180 180 180 180 180   0   0   0   0 180 180 180 180 180 180\n",
      " 180   0   0   0 180 180 180 180 180 180 180 180 180   0   0   0   0   0\n",
      "   0   0   0   0   0   0   0   0   0   0   0   0   0   0   0   0   0   0\n",
      "   0   0   0   0   0   0   0   0   0   0   0   0   0   0   0   0   0   0\n",
      "   0   0   0   0   0   0   0 180 180 180 180 180 180 180 180 180 180 180\n",
      " 180 180 180 180 180 180 180 180 180 180 180   0   0   0   0   0   0   0\n",
      "   0   0   0   0   0   0   0   0   0   0   0 180 180 180 180 180 180 180\n",
      " 180 180 180   0 180 180 180 180 180 180 180 180 180 180   0   0   0   0\n",
      "   0   0   0   0   0   0   0   0   0]\n"
     ]
    }
   ],
   "source": [
    "print(ground_trouth)"
   ]
  },
  {
   "cell_type": "code",
   "execution_count": 17,
   "metadata": {
    "collapsed": false
   },
   "outputs": [
    {
     "data": {
      "image/png": "[encoded data removed]",
      "text/plain": [
       "<matplotlib.figure.Figure at 0x10e721a90>"
      ]
     },
     "metadata": {},
     "output_type": "display_data"
    }
   ],
   "source": [
    "import matplotlib.pyplot as plt\n",
    "%matplotlib inline\n",
    "\n",
    "plt.figure(num=None, figsize=(18, 1), dpi=100)\n",
    "plt.imshow(ground_trouth.reshape(1,nb_instances).astype(np.float32))\n",
    "plt.show()"
   ]
  },
  {
   "cell_type": "code",
   "execution_count": 18,
   "metadata": {
    "collapsed": false
   },
   "outputs": [
    {
     "name": "stdout",
     "output_type": "stream",
     "text": [
      "Plataform diving\n"
     ]
    }
   ],
   "source": [
    "print(video.label)"
   ]
  },
  {
   "cell_type": "code",
   "execution_count": 19,
   "metadata": {
    "collapsed": false
   },
   "outputs": [
    {
     "name": "stdout",
     "output_type": "stream",
     "text": [
      "https://www.youtube.com/watch?v=gwZleaX_ZR8\n"
     ]
    }
   ],
   "source": [
    "print(video.url)"
   ]
  },
  {
   "cell_type": "code",
   "execution_count": 20,
   "metadata": {
    "collapsed": true
   },
   "outputs": [],
   "source": [
    "score = np.sum(YY==ground_trouth)/len(YY)"
   ]
  },
  {
   "cell_type": "code",
   "execution_count": 21,
   "metadata": {
    "collapsed": false
   },
   "outputs": [
    {
     "name": "stdout",
     "output_type": "stream",
     "text": [
      "0.480286738351\n"
     ]
    }
   ],
   "source": [
    "print(score)"
   ]
  },
  {
   "cell_type": "code",
   "execution_count": 22,
   "metadata": {
    "collapsed": false
   },
   "outputs": [
    {
     "name": "stdout",
     "output_type": "stream",
     "text": [
      "v-LmMLpvsbk\n"
     ]
    }
   ],
   "source": [
    "import random\n",
    "\n",
    "videos = dataset.get_subset_videos('validation')\n",
    "v = random.choice(videos)\n",
    "print(v.video_id)"
   ]
  },
  {
   "cell_type": "code",
   "execution_count": 23,
   "metadata": {
    "collapsed": false
   },
   "outputs": [
    {
     "name": "stdout",
     "output_type": "stream",
     "text": [
      "[  0   0   7  14  14   0   0   0   0   0   0   0   0   0   0   0   0   0\n",
      "   0   0   0 180 180 180 180   0   0   0   0 180 180   0   0 180 180   0\n",
      "   0   0   0 180 180   0   0   0 180 180 180 180   0   0   0   0   0   0\n",
      "   0 180 180 180 180   0   0   0 180   0   0   0 180 180 180 180 180   0\n",
      "   0   0   0   0   0   0 180 180 180 180 180 180 180 180 180 180 180 180\n",
      " 180 180 180 180 180   0   0   0   0   0 180   0   0   0   0   0   0 180\n",
      " 180 180   0   0   0 180 180 180 180 180   0 180 180 180 180   0   0   0\n",
      "   0   0   0   0   0   0 180 180 180   0   0   0   0   0   0   0 180 180\n",
      " 180 180 180 180   0   0 180 180 180 180 180   0 180 180 180 180 180   0\n",
      "   0   0   0   0   0   0   0 180 180   0 180 180 180 180   0   0   0   0\n",
      "   0   0   0   0 180 180 180 180 180 180 180 180 180 180 180 180 180 180\n",
      " 180 180 180 180 180 180 180   0   0 180 180 180 180   0   0   0   0   0\n",
      "   0   0   0 180   0 180   0   0   0 180 180   0 180 180 180 180 180 180\n",
      " 180   0   0   0   0   0   0 180 180 180 180 180 180 180   0   0   0   0\n",
      " 180 180 180 180 180 180 180   0   0   0   0   0   0   0 180 180 180 180\n",
      " 180   0   0   0   0   0   0   0   0]\n"
     ]
    }
   ],
   "source": [
    "print(YY)"
   ]
  },
  {
   "cell_type": "code",
   "execution_count": 25,
   "metadata": {
    "collapsed": true
   },
   "outputs": [],
   "source": [
    "np.save('YY', YY)"
   ]
  },
  {
   "cell_type": "code",
   "execution_count": null,
   "metadata": {
    "collapsed": true
   },
   "outputs": [],
   "source": []
  },
  {
   "cell_type": "code",
   "execution_count": 2,
   "metadata": {
    "collapsed": false
   },
   "outputs": [
    {
     "name": "stdout",
     "output_type": "stream",
     "text": [
      "[  0   0   7  14  14   0   0   0   0   0   0   0   0   0   0   0   0   0\n",
      "   0   0   0 180 180 180 180   0   0   0   0 180 180   0   0 180 180   0\n",
      "   0   0   0 180 180   0   0   0 180 180 180 180   0   0   0   0   0   0\n",
      "   0 180 180 180 180   0   0   0 180   0   0   0 180 180 180 180 180   0\n",
      "   0   0   0   0   0   0 180 180 180 180 180 180 180 180 180 180 180 180\n",
      " 180 180 180 180 180   0   0   0   0   0 180   0   0   0   0   0   0 180\n",
      " 180 180   0   0   0 180 180 180 180 180   0 180 180 180 180   0   0   0\n",
      "   0   0   0   0   0   0 180 180 180   0   0   0   0   0   0   0 180 180\n",
      " 180 180 180 180   0   0 180 180 180 180 180   0 180 180 180 180 180   0\n",
      "   0   0   0   0   0   0   0 180 180   0 180 180 180 180   0   0   0   0\n",
      "   0   0   0   0 180 180 180 180 180 180 180 180 180 180 180 180 180 180\n",
      " 180 180 180 180 180 180 180   0   0 180 180 180 180   0   0   0   0   0\n",
      "   0   0   0 180   0 180   0   0   0 180 180   0 180 180 180 180 180 180\n",
      " 180   0   0   0   0   0   0 180 180 180 180 180 180 180   0   0   0   0\n",
      " 180 180 180 180 180 180 180   0   0   0   0   0   0   0 180 180 180 180\n",
      " 180   0   0   0   0   0   0   0   0]\n"
     ]
    },
    {
     "ename": "NameError",
     "evalue": "name 'video' is not defined",
     "output_type": "error",
     "traceback": [
      "\u001b[0;31m---------------------------------------------------------------------------\u001b[0m",
      "\u001b[0;31mNameError\u001b[0m                                 Traceback (most recent call last)",
      "\u001b[0;32m<ipython-input-2-04f6574ee77a>\u001b[0m in \u001b[0;36m<module>\u001b[0;34m()\u001b[0m\n\u001b[1;32m      5\u001b[0m \u001b[0mprint\u001b[0m\u001b[0;34m(\u001b[0m\u001b[0mYY\u001b[0m\u001b[0;34m)\u001b[0m\u001b[0;34m\u001b[0m\u001b[0m\n\u001b[1;32m      6\u001b[0m \u001b[0;34m\u001b[0m\u001b[0m\n\u001b[0;32m----> 7\u001b[0;31m \u001b[0mpredictions\u001b[0m \u001b[0;34m=\u001b[0m \u001b[0mget_temporal_predictions\u001b[0m\u001b[0;34m(\u001b[0m\u001b[0mYY\u001b[0m\u001b[0;34m,\u001b[0m \u001b[0mfps\u001b[0m\u001b[0;34m=\u001b[0m\u001b[0mvideo\u001b[0m\u001b[0;34m.\u001b[0m\u001b[0mnum_frames\u001b[0m\u001b[0;34m/\u001b[0m\u001b[0mvideo\u001b[0m\u001b[0;34m.\u001b[0m\u001b[0mduration\u001b[0m\u001b[0;34m,\u001b[0m \u001b[0mclip_length\u001b[0m\u001b[0;34m=\u001b[0m\u001b[0;36m16\u001b[0m\u001b[0;34m)\u001b[0m\u001b[0;34m\u001b[0m\u001b[0m\n\u001b[0m\u001b[1;32m      8\u001b[0m \u001b[0;34m\u001b[0m\u001b[0m\n\u001b[1;32m      9\u001b[0m \u001b[0mprint\u001b[0m\u001b[0;34m(\u001b[0m\u001b[0mpredictions\u001b[0m\u001b[0;34m)\u001b[0m\u001b[0;34m\u001b[0m\u001b[0m\n",
      "\u001b[0;31mNameError\u001b[0m: name 'video' is not defined"
     ]
    }
   ],
   "source": [
    "from work.dataset.activitynet import ActivityNetDataset\n",
    "\n",
    "dataset = ActivityNetDataset(\n",
    "    videos_path='../dataset/videos.json',\n",
    "    labels_path='../dataset/labels.txt'\n",
    ")\n",
    "video = None\n",
    "for v in dataset.videos:\n",
    "    if v.video_id == 'gwZleaX_ZR8':\n",
    "        video = v\n",
    "\n",
    "import numpy as np\n",
    "from work.processing.data import get_temporal_predictions\n",
    "\n",
    "YY = np.load('YY.npy')\n",
    "print(YY)\n",
    "\n",
    "predictions = get_temporal_predictions(YY, fps=video.num_frames/video.duration, clip_length=16)\n",
    "\n",
    "print(predictions)"
   ]
  },
  {
   "cell_type": "code",
   "execution_count": null,
   "metadata": {
    "collapsed": true
   },
   "outputs": [],
   "source": []
  }
 ],
 "metadata": {
  "kernelspec": {
   "display_name": "Python 3",
   "language": "python",
   "name": "python3"
  },
  "language_info": {
   "codemirror_mode": {
    "name": "ipython",
    "version": 3
   },
   "file_extension": ".py",
   "mimetype": "text/x-python",
   "name": "python",
   "nbconvert_exporter": "python",
   "pygments_lexer": "ipython3",
   "version": "3.5.1"
  }
 },
 "nbformat": 4,
 "nbformat_minor": 0
}
