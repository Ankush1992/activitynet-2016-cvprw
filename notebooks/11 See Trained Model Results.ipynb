{
 "cells": [
  {
   "cell_type": "code",
   "execution_count": 1,
   "metadata": {
    "collapsed": false
   },
   "outputs": [
    {
     "name": "stderr",
     "output_type": "stream",
     "text": [
      "Using Theano backend.\n"
     ]
    }
   ],
   "source": [
    "from work.models.decoder import RecurrentActivityClassificationNetwork\n",
    "\n",
    "model = RecurrentActivityClassificationNetwork(1, 1, stateful=True)\n",
    "model.load_weights('../models/training/lstm_activity_classification/lstm_activity_classification_01_e100.hdf5')\n",
    "model.compile(loss='categorical_crossentropy', optimizer='rmsprop', metrics=['accuracy'])"
   ]
  },
  {
   "cell_type": "code",
   "execution_count": 3,
   "metadata": {
    "collapsed": false
   },
   "outputs": [
    {
     "name": "stderr",
     "output_type": "stream",
     "text": [
      "Using Theano backend.\n"
     ]
    }
   ],
   "source": [
    "from work.dataset.activitynet import ActivityNetDataset\n",
    "\n",
    "dataset = ActivityNetDataset(\n",
    "    videos_path='../dataset/videos.json',\n",
    "    labels_path='../dataset/labels.txt'\n",
    ")"
   ]
  },
  {
   "cell_type": "code",
   "execution_count": 4,
   "metadata": {
    "collapsed": false
   },
   "outputs": [
    {
     "name": "stdout",
     "output_type": "stream",
     "text": [
      "{'url': 'https://www.youtube.com/watch?v=Zn84iOuIkDs', 'num_frames': 2194, 'annotations': [{'segment': [0.01, 81.321], 'label': 'Clipping cat claws'}], 'subset': 'validation', 'duration': 81.363, 'resolution': '320x240'}\n"
     ]
    }
   ],
   "source": [
    "video = None\n",
    "for v in dataset.videos:\n",
    "    if v.video_id == 'Zn84iOuIkDs':\n",
    "        video = v\n",
    "print(video.serialize())\n",
    "video_path = '../downloads/dataset/validation/'+video.video_id+'.mp4'"
   ]
  },
  {
   "cell_type": "code",
   "execution_count": 5,
   "metadata": {
    "collapsed": false
   },
   "outputs": [
    {
     "name": "stdout",
     "output_type": "stream",
     "text": [
      "(137, 4096)\n",
      "(137, 1, 4096)\n",
      "137/137 [==============================] - 2s     \n"
     ]
    }
   ],
   "source": [
    "import numpy as np\n",
    "features = np.load('../downloads/features/Zn84iOuIkDs.npy')\n",
    "print(features[:,:].shape)\n",
    "nb_instances = features.shape[0]\n",
    "\n",
    "features = features.reshape(nb_instances, 1, 4096)\n",
    "print(features.shape)\n",
    "model.reset_states()\n",
    "YY=model.predict_classes(features, batch_size=1)\n"
   ]
  },
  {
   "cell_type": "code",
   "execution_count": 6,
   "metadata": {
    "collapsed": false
   },
   "outputs": [
    {
     "name": "stdout",
     "output_type": "stream",
     "text": [
      "[22 22 22 22 22 22 22 22 22 22 22 22 22 22 22 22 22 22 22 22 22 22 22 22 22\n",
      " 22 22 22 22 22 22 22 22 22 22 22 22 22 22 22 22 22 22 22 22 22 22 22 22 22\n",
      " 22 22 22 22 22 22 22 22 22 22 22 22 22 22 22 22 22 22 22 22 22 22 22 22 22\n",
      " 22 22 22 22 22 22 22 22 22 22 22 22 22 22 22 22 22 22 22 22 22 22 22 22 22\n",
      " 22 22 22 22 22 22 22 22 22 22 22 22 22 22 22 22 22 22 22 22 22 22 22 22 22\n",
      " 22 22 22 22 22 22 22 22 22 22 22 22]\n"
     ]
    }
   ],
   "source": [
    "video.get_video_instances(16, 0)\n",
    "ground_trouth = np.array([instance.output for instance in video.instances])\n",
    "print(ground_trouth)"
   ]
  },
  {
   "cell_type": "code",
   "execution_count": 7,
   "metadata": {
    "collapsed": false
   },
   "outputs": [
    {
     "name": "stdout",
     "output_type": "stream",
     "text": [
      "(137, 1)\n",
      "[  0   0   0   0   0   0   0 152 150 150 150   0   0   0 149 149  22  22\n",
      "  22  22  22  22  22  22  22  22  22  22  22  22  22  22  22  22  22  22\n",
      "  22  22  22   0   0  22  22  22  22  22  22  22  22  22  22  22  22  22\n",
      "  22  22  22  22  22  22  22   0   0  22  22  22  22  22  22  22  22  22\n",
      "  22  22  22  22  22  22  22  22  22  22  22  22  22  22  22  22  22  22\n",
      "  22  22  22  22  22  22  22  22  22  22  22  22  22  22  22  22  22  22\n",
      "  22   0   0   0   0   0   0   0   0   0   0   0   0   0   0   0   0   0\n",
      "   0   0   0   0   0   0   0   0   0   0   0]\n",
      "[22 22 22 22 22 22 22 22 22 22 22 22 22 22 22 22 22 22 22 22 22 22 22 22 22\n",
      " 22 22 22 22 22 22 22 22 22 22 22 22 22 22 22 22 22 22 22 22 22 22 22 22 22\n",
      " 22 22 22 22 22 22 22 22 22 22 22 22 22 22 22 22 22 22 22 22 22 22 22 22 22\n",
      " 22 22 22 22 22 22 22 22 22 22 22 22 22 22 22 22 22 22 22 22 22 22 22 22 22\n",
      " 22 22 22 22 22 22 22 22 22 22 22 22 22 22 22 22 22 22 22 22 22 22 22 22 22\n",
      " 22 22 22 22 22 22 22 22 22 22 22 22]\n"
     ]
    }
   ],
   "source": [
    "print(YY.shape)\n",
    "YY=YY.reshape(nb_instances)\n",
    "print(YY)\n",
    "print(ground_trouth)\n"
   ]
  },
  {
   "cell_type": "code",
   "execution_count": 8,
   "metadata": {
    "collapsed": false
   },
   "outputs": [
    {
     "data": {
      "text/plain": [
       "22"
      ]
     },
     "execution_count": 8,
     "metadata": {},
     "output_type": "execute_result"
    }
   ],
   "source": [
    "dataset.get_output_index(video.label)"
   ]
  },
  {
   "cell_type": "code",
   "execution_count": 9,
   "metadata": {
    "collapsed": false
   },
   "outputs": [
    {
     "name": "stdout",
     "output_type": "stream",
     "text": [
      "validation\n"
     ]
    }
   ],
   "source": [
    "print(video.subset)"
   ]
  },
  {
   "cell_type": "code",
   "execution_count": 10,
   "metadata": {
    "collapsed": false,
    "scrolled": true
   },
   "outputs": [
    {
     "name": "stdout",
     "output_type": "stream",
     "text": [
      "[False False False False False False False False False False False False\n",
      " False False False False  True  True  True  True  True  True  True  True\n",
      "  True  True  True  True  True  True  True  True  True  True  True  True\n",
      "  True  True  True False False  True  True  True  True  True  True  True\n",
      "  True  True  True  True  True  True  True  True  True  True  True  True\n",
      "  True False False  True  True  True  True  True  True  True  True  True\n",
      "  True  True  True  True  True  True  True  True  True  True  True  True\n",
      "  True  True  True  True  True  True  True  True  True  True  True  True\n",
      "  True  True  True  True  True  True  True  True  True  True  True  True\n",
      "  True False False False False False False False False False False False\n",
      " False False False False False False False False False False False False\n",
      " False False False False False]\n"
     ]
    }
   ],
   "source": [
    "print(ground_trouth==YY)"
   ]
  },
  {
   "cell_type": "code",
   "execution_count": 11,
   "metadata": {
    "collapsed": false,
    "scrolled": false
   },
   "outputs": [
    {
     "name": "stdout",
     "output_type": "stream",
     "text": [
      "[42  0  0  0  0  0  0  0  0  0  0  0  0  0  0  0  0  0  0  0  0  0 89  0  0\n",
      "  0  0  0  0  0  0  0  0  0  0  0  0  0  0  0  0  0  0  0  0  0  0  0  0  0\n",
      "  0  0  0  0  0  0  0  0  0  0  0  0  0  0  0  0  0  0  0  0  0  0  0  0  0\n",
      "  0  0  0  0  0  0  0  0  0  0  0  0  0  0  0  0  0  0  0  0  0  0  0  0  0\n",
      "  0  0  0  0  0  0  0  0  0  0  0  0  0  0  0  0  0  0  0  0  0  0  0  0  0\n",
      "  0  0  0  0  0  0  0  0  0  0  0  0  0  0  0  0  0  0  0  0  0  0  0  0  2\n",
      "  3  0  1]\n"
     ]
    }
   ],
   "source": [
    "counts = np.bincount(YY)\n",
    "print(counts)"
   ]
  },
  {
   "cell_type": "code",
   "execution_count": 12,
   "metadata": {
    "collapsed": false
   },
   "outputs": [],
   "source": [
    "predicted_class = np.argmax(np.bincount(YY)[1:])+1"
   ]
  },
  {
   "cell_type": "code",
   "execution_count": 13,
   "metadata": {
    "collapsed": false
   },
   "outputs": [
    {
     "name": "stdout",
     "output_type": "stream",
     "text": [
      "22\n"
     ]
    }
   ],
   "source": [
    "print(predicted_class)"
   ]
  },
  {
   "cell_type": "code",
   "execution_count": 14,
   "metadata": {
    "collapsed": false
   },
   "outputs": [
    {
     "name": "stdout",
     "output_type": "stream",
     "text": [
      "[ 22 150 149]\n"
     ]
    },
    {
     "data": {
      "text/plain": [
       "array([ 0.93684211,  0.03157895,  0.02105263])"
      ]
     },
     "execution_count": 14,
     "metadata": {},
     "output_type": "execute_result"
    }
   ],
   "source": [
    "k_3 = np.argsort(counts[1:])[::-1][:3] + 1\n",
    "print(k_3)\n",
    "\n",
    "(counts[k_3]/np.sum(counts[1:]))"
   ]
  },
  {
   "cell_type": "code",
   "execution_count": 15,
   "metadata": {
    "collapsed": false
   },
   "outputs": [
    {
     "name": "stdout",
     "output_type": "stream",
     "text": [
      "[ 22 150 149]\n",
      "[ 0.93684211  0.03157895  0.02105263]\n",
      "[ 0.93684211  0.03157895  0.02105263] Clipping cat claws\n",
      "[ 0.93684211  0.03157895  0.02105263] Ironing clothes\n",
      "[ 0.93684211  0.03157895  0.02105263] Washing hands\n"
     ]
    }
   ],
   "source": [
    "from work.processing.output import get_top_k_predictions, get_top_k_predictions_score\n",
    "\n",
    "top_3 = get_top_k_predictions(YY, 3)\n",
    "print(top_3)\n",
    "_, scores = get_top_k_predictions_score(YY, 3)\n",
    "print(scores)\n",
    "for index in top_3:\n",
    "    print(scores, dataset.labels[index][1])"
   ]
  },
  {
   "cell_type": "code",
   "execution_count": 16,
   "metadata": {
    "collapsed": false
   },
   "outputs": [
    {
     "name": "stdout",
     "output_type": "stream",
     "text": [
      "[22 22 22 22 22 22 22 22 22 22 22 22 22 22 22 22 22 22 22 22 22 22 22 22 22\n",
      " 22 22 22 22 22 22 22 22 22 22 22 22 22 22 22 22 22 22 22 22 22 22 22 22 22\n",
      " 22 22 22 22 22 22 22 22 22 22 22 22 22 22 22 22 22 22 22 22 22 22 22 22 22\n",
      " 22 22 22 22 22 22 22 22 22 22 22 22 22 22 22 22 22 22 22 22 22 22 22 22 22\n",
      " 22 22 22 22 22 22 22 22 22 22 22 22 22 22 22 22 22 22 22 22 22 22 22 22 22\n",
      " 22 22 22 22 22 22 22 22 22 22 22 22]\n"
     ]
    }
   ],
   "source": [
    "print(ground_trouth)"
   ]
  },
  {
   "cell_type": "code",
   "execution_count": 17,
   "metadata": {
    "collapsed": false
   },
   "outputs": [
    {
     "data": {
      "image/png": "[encoded data removed]",
      "text/plain": [
       "<matplotlib.figure.Figure at 0x10e4fa1d0>"
      ]
     },
     "metadata": {},
     "output_type": "display_data"
    }
   ],
   "source": [
    "import matplotlib.pyplot as plt\n",
    "%matplotlib inline\n",
    "\n",
    "plt.figure(num=None, figsize=(18, 1), dpi=100)\n",
    "plt.imshow(ground_trouth.reshape(1,nb_instances).astype(np.float32))\n",
    "plt.show()"
   ]
  },
  {
   "cell_type": "code",
   "execution_count": 18,
   "metadata": {
    "collapsed": false
   },
   "outputs": [
    {
     "name": "stdout",
     "output_type": "stream",
     "text": [
      "Clipping cat claws\n"
     ]
    }
   ],
   "source": [
    "print(video.label)"
   ]
  },
  {
   "cell_type": "code",
   "execution_count": 19,
   "metadata": {
    "collapsed": false
   },
   "outputs": [
    {
     "name": "stdout",
     "output_type": "stream",
     "text": [
      "https://www.youtube.com/watch?v=Zn84iOuIkDs\n"
     ]
    }
   ],
   "source": [
    "print(video.url)"
   ]
  },
  {
   "cell_type": "code",
   "execution_count": 20,
   "metadata": {
    "collapsed": true
   },
   "outputs": [],
   "source": [
    "score = np.sum(YY==ground_trouth)/len(YY)"
   ]
  },
  {
   "cell_type": "code",
   "execution_count": 21,
   "metadata": {
    "collapsed": false
   },
   "outputs": [
    {
     "name": "stdout",
     "output_type": "stream",
     "text": [
      "0.649635036496\n"
     ]
    }
   ],
   "source": [
    "print(score)"
   ]
  },
  {
   "cell_type": "code",
   "execution_count": 30,
   "metadata": {
    "collapsed": false
   },
   "outputs": [
    {
     "name": "stdout",
     "output_type": "stream",
     "text": [
      "kt3hzGla8r4\n"
     ]
    }
   ],
   "source": [
    "import random\n",
    "\n",
    "videos = dataset.get_subset_videos('validation')\n",
    "v = random.choice(videos)\n",
    "print(v.video_id)"
   ]
  },
  {
   "cell_type": "code",
   "execution_count": 23,
   "metadata": {
    "collapsed": false
   },
   "outputs": [
    {
     "name": "stdout",
     "output_type": "stream",
     "text": [
      "[  0   0   0   0   0   0   0 152 150 150 150   0   0   0 149 149  22  22\n",
      "  22  22  22  22  22  22  22  22  22  22  22  22  22  22  22  22  22  22\n",
      "  22  22  22   0   0  22  22  22  22  22  22  22  22  22  22  22  22  22\n",
      "  22  22  22  22  22  22  22   0   0  22  22  22  22  22  22  22  22  22\n",
      "  22  22  22  22  22  22  22  22  22  22  22  22  22  22  22  22  22  22\n",
      "  22  22  22  22  22  22  22  22  22  22  22  22  22  22  22  22  22  22\n",
      "  22   0   0   0   0   0   0   0   0   0   0   0   0   0   0   0   0   0\n",
      "   0   0   0   0   0   0   0   0   0   0   0]\n"
     ]
    }
   ],
   "source": [
    "print(YY)"
   ]
  },
  {
   "cell_type": "code",
   "execution_count": 24,
   "metadata": {
    "collapsed": true
   },
   "outputs": [],
   "source": [
    "np.save('YY', YY)"
   ]
  },
  {
   "cell_type": "code",
   "execution_count": null,
   "metadata": {
    "collapsed": true
   },
   "outputs": [],
   "source": []
  },
  {
   "cell_type": "code",
   "execution_count": 25,
   "metadata": {
    "collapsed": false
   },
   "outputs": [
    {
     "name": "stdout",
     "output_type": "stream",
     "text": [
      "[  0   0   0   0   0   0   0 152 150 150 150   0   0   0 149 149  22  22\n",
      "  22  22  22  22  22  22  22  22  22  22  22  22  22  22  22  22  22  22\n",
      "  22  22  22   0   0  22  22  22  22  22  22  22  22  22  22  22  22  22\n",
      "  22  22  22  22  22  22  22   0   0  22  22  22  22  22  22  22  22  22\n",
      "  22  22  22  22  22  22  22  22  22  22  22  22  22  22  22  22  22  22\n",
      "  22  22  22  22  22  22  22  22  22  22  22  22  22  22  22  22  22  22\n",
      "  22   0   0   0   0   0   0   0   0   0   0   0   0   0   0   0   0   0\n",
      "   0   0   0   0   0   0   0   0   0   0   0]\n",
      "[{'segment': [9.49358614402917, 23.140616226071103], 'label': 22, 'score': 1}, {'segment': [24.32731449407475, 36.19429717411121], 'label': 22, 'score': 1}, {'segment': [37.38099544211486, 64.67505560619873], 'label': 22, 'score': 1}]\n"
     ]
    }
   ],
   "source": [
    "from work.dataset.activitynet import ActivityNetDataset\n",
    "\n",
    "dataset = ActivityNetDataset(\n",
    "    videos_path='../dataset/videos.json',\n",
    "    labels_path='../dataset/labels.txt'\n",
    ")\n",
    "video = None\n",
    "for v in dataset.videos:\n",
    "    if v.video_id == 'Zn84iOuIkDs':\n",
    "        video = v\n",
    "\n",
    "import numpy as np\n",
    "from work.processing.output import get_temporal_predictions\n",
    "\n",
    "YY = np.load('YY.npy')\n",
    "print(YY)\n",
    "\n",
    "predictions = get_temporal_predictions(YY, fps=video.num_frames/video.duration, clip_length=16)\n",
    "\n",
    "print(predictions)"
   ]
  },
  {
   "cell_type": "code",
   "execution_count": 4,
   "metadata": {
    "collapsed": false
   },
   "outputs": [],
   "source": [
    "import numpy as np\n",
    "instances = np.array([video.num_frames//16 for video in dataset.videos])"
   ]
  },
  {
   "cell_type": "code",
   "execution_count": 5,
   "metadata": {
    "collapsed": false
   },
   "outputs": [
    {
     "name": "stdout",
     "output_type": "stream",
     "text": [
      "1\n",
      "1826\n"
     ]
    }
   ],
   "source": [
    "print(np.min(instances))\n",
    "print(np.max(instances))"
   ]
  },
  {
   "cell_type": "code",
   "execution_count": 6,
   "metadata": {
    "collapsed": false
   },
   "outputs": [
    {
     "data": {
      "text/plain": [
       "2035"
      ]
     },
     "execution_count": 6,
     "metadata": {},
     "output_type": "execute_result"
    }
   ],
   "source": [
    "np.argmin(instances)"
   ]
  },
  {
   "cell_type": "code",
   "execution_count": 7,
   "metadata": {
    "collapsed": false
   },
   "outputs": [
    {
     "data": {
      "text/plain": [
       "{'annotations': [{'label': 'Throwing darts',\n",
       "   'segment': [0.19999999999999998, 2.865034013605442]}],\n",
       " 'duration': 3.066,\n",
       " 'num_frames': 29,\n",
       " 'resolution': '320x240',\n",
       " 'subset': 'validation',\n",
       " 'url': 'https://www.youtube.com/watch?v=j73Wh1olDsA'}"
      ]
     },
     "execution_count": 7,
     "metadata": {},
     "output_type": "execute_result"
    }
   ],
   "source": [
    "dataset.videos[_].serialize()"
   ]
  },
  {
   "cell_type": "code",
   "execution_count": null,
   "metadata": {
    "collapsed": true
   },
   "outputs": [],
   "source": []
  }
 ],
 "metadata": {
  "kernelspec": {
   "display_name": "Python 3",
   "language": "python",
   "name": "python3"
  },
  "language_info": {
   "codemirror_mode": {
    "name": "ipython",
    "version": 3
   },
   "file_extension": ".py",
   "mimetype": "text/x-python",
   "name": "python",
   "nbconvert_exporter": "python",
   "pygments_lexer": "ipython3",
   "version": "3.5.1"
  }
 },
 "nbformat": 4,
 "nbformat_minor": 0
}
